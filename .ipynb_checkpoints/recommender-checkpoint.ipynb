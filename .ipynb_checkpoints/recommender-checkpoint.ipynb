{
 "cells": [
  {
   "cell_type": "markdown",
   "id": "858be774",
   "metadata": {},
   "source": [
    "# Import dan Load Dataset"
   ]
  },
  {
   "cell_type": "code",
   "execution_count": null,
   "id": "b52b1d94",
   "metadata": {
    "vscode": {
     "languageId": "plaintext"
    }
   },
   "outputs": [],
   "source": [
    "import pandas as pd\n",
    "from surprise import SVD, Dataset, Reader\n",
    "from surprise.model_selection import train_test_split\n",
    "import joblib\n",
    "import os\n"
   ]
  },
  {
   "cell_type": "markdown",
   "id": "1ad8aab1",
   "metadata": {},
   "source": [
    "# Load CSV"
   ]
  },
  {
   "cell_type": "code",
   "execution_count": null,
   "id": "8c24e128",
   "metadata": {
    "vscode": {
     "languageId": "plaintext"
    }
   },
   "outputs": [],
   "source": [
    "ratings_df = pd.read_csv(\"data/ratings.csv\")\n",
    "movies_df = pd.read_csv(\"data/movies.csv\")\n"
   ]
  },
  {
   "cell_type": "markdown",
   "id": "973a0c0c",
   "metadata": {},
   "source": [
    "# Siapkan Data untuk Training"
   ]
  },
  {
   "cell_type": "code",
   "execution_count": null,
   "id": "09627136",
   "metadata": {
    "vscode": {
     "languageId": "plaintext"
    }
   },
   "outputs": [],
   "source": [
    "reader = Reader(rating_scale=(0.5, 5.0))\n",
    "data = Dataset.load_from_df(ratings_df[['userId', 'movieId', 'rating']], reader)\n",
    "trainset, testset = train_test_split(data, test_size=0.2, random_state=42)\n"
   ]
  },
  {
   "cell_type": "markdown",
   "id": "52238f12",
   "metadata": {},
   "source": [
    "# Latih Model & Simpan"
   ]
  },
  {
   "cell_type": "code",
   "execution_count": null,
   "id": "8d4e2893",
   "metadata": {
    "vscode": {
     "languageId": "plaintext"
    }
   },
   "outputs": [],
   "source": [
    "model = SVD()\n",
    "model.fit(trainset)\n",
    "\n",
    "os.makedirs(\"models\", exist_ok=True)\n",
    "joblib.dump(model, \"models/svd_model.joblib\")\n"
   ]
  },
  {
   "cell_type": "markdown",
   "id": "7cdb4e30",
   "metadata": {},
   "source": [
    "# Fungsi Rekomendasi"
   ]
  },
  {
   "cell_type": "code",
   "execution_count": null,
   "id": "55b7ecb8",
   "metadata": {
    "vscode": {
     "languageId": "plaintext"
    }
   },
   "outputs": [],
   "source": [
    "def recommend_movies_for_user(user_id, ratings_df, movies_df, model, n=10):\n",
    "    all_movie_ids = movies_df['movieId'].unique()\n",
    "    watched_movie_ids = ratings_df[ratings_df['userId'] == user_id]['movieId'].tolist()\n",
    "    unseen_movie_ids = [m for m in all_movie_ids if m not in watched_movie_ids]\n",
    "    \n",
    "    predictions = [model.predict(user_id, movie_id) for movie_id in unseen_movie_ids]\n",
    "    top_predictions = sorted(predictions, key=lambda x: x.est, reverse=True)[:n]\n",
    "    \n",
    "    top_movie_ids = [pred.iid for pred in top_predictions]\n",
    "    return movies_df[movies_df['movieId'].isin(top_movie_ids)][['movieId', 'title']]\n"
   ]
  },
  {
   "cell_type": "markdown",
   "id": "3854e552",
   "metadata": {},
   "source": [
    "# Coba Rekomendasi"
   ]
  },
  {
   "cell_type": "code",
   "execution_count": null,
   "id": "67a63152",
   "metadata": {
    "vscode": {
     "languageId": "plaintext"
    }
   },
   "outputs": [],
   "source": [
    "recommendations = recommend_movies_for_user(1, ratings_df, movies_df, model, n=10)\n",
    "print(recommendations)\n"
   ]
  }
 ],
 "metadata": {
  "language_info": {
   "name": "python"
  }
 },
 "nbformat": 4,
 "nbformat_minor": 5
}
