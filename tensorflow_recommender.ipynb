{
 "cells": [
  {
   "cell_type": "markdown",
   "metadata": {},
   "source": [
    "# Training Model Rekomendasi Film dengan TensorFlow\n",
    "\n",
    "Notebook ini bertujuan untuk membuat dan melatih model rekomendasi film menggunakan TensorFlow/Keras. Model ini akan belajar dari data rating yang diberikan oleh pengguna untuk memprediksi rating film yang belum mereka tonton."
   ]
  },
  {
   "cell_type": "markdown",
   "metadata": {},
   "source": [
    "## 1. Import Library"
   ]
  },
  {
   "cell_type": "code",
   "execution_count": null,
   "metadata": {},
   "outputs": [],
   "source": [
    "import pandas as pd\n",
    "import numpy as np\n",
    "import tensorflow as tf\n",
    "from tensorflow import keras\n",
    "from tensorflow.keras import layers\n",
    "from sklearn.model_selection import train_test_split\n",
    "from sklearn.preprocessing import LabelEncoder\n",
    "import os"
   ]
  },
  {
   "cell_type": "markdown",
   "metadata": {},
   "source": [
    "## 2. Load Dataset"
   ]
  },
  {
   "cell_type": "code",
   "execution_count": null,
   "metadata": {},
   "outputs": [],
   "source": [
    "ratings_df = pd.read_csv('data/ratings.csv')\n",
    "movies_df = pd.read_csv('data/movies.csv')\n",
    "\n",
    "print(\"Contoh data ratings:\")\n",
    "print(ratings_df.head())\n",
    "print(\"\\nJumlah data ratings:\", len(ratings_df))"
   ]
  },
  {
   "cell_type": "markdown",
   "metadata": {},
   "source": [
    "## 3. Pra-pemrosesan Data\n",
    "\n",
    "Model Jaringan Saraf Tiruan, khususnya Embedding Layer, memerlukan input berupa integer yang berurutan (misal: dari 0 hingga jumlah unik user/movie - 1). Oleh karena itu, kita perlu mengubah `userId` dan `movieId` yang asli menjadi indeks integer."
   ]
  },
  {
   "cell_type": "code",
   "execution_count": null,
   "metadata": {},
   "outputs": [],
   "source": [
    "# Menggunakan LabelEncoder untuk mengubah userId dan movieId menjadi indeks integer\n",
    "user_encoder = LabelEncoder()\n",
    "movie_encoder = LabelEncoder()\n",
    "\n",
    "ratings_df['user_idx'] = user_encoder.fit_transform(ratings_df['userId'])\n",
    "ratings_df['movie_idx'] = movie_encoder.fit_transform(ratings_df['movieId'])\n",
    "\n",
    "num_users = len(ratings_df['user_idx'].unique())\n",
    "num_movies = len(ratings_df['movie_idx'].unique())\n",
    "\n",
    "print(f\"Jumlah user unik: {num_users}\")\n",
    "print(f\"Jumlah movie unik: {num_movies}\")\n",
    "print(\"\\nData setelah di-encode:\")\n",
    "print(ratings_df.head())"
   ]
  },
  {
   "cell_type": "markdown",
   "metadata": {},
   "source": [
    "## 4. Split Data\n",
    "\n",
    "Kita akan membagi dataset menjadi data training (80%) dan data testing (20%)."
   ]
  },
  {
   "cell_type": "code",
   "execution_count": null,
   "metadata": {},
   "outputs": [],
   "source": [
    "X = ratings_df[['user_idx', 'movie_idx']].values\n",
    "y = ratings_df['rating'].values\n",
    "\n",
    "X_train, X_test, y_train, y_test = train_test_split(X, y, test_size=0.2, random_state=42)"
   ]
  },
  {
   "cell_type": "markdown",
   "metadata": {},
   "source": [
    "## 5. Membangun Model Jaringan Saraf Tiruan (Neural Network)\n",
    "\n",
    "Arsitektur model ini meniru faktorisasi matriks:\n",
    "1.  **Input Layers**: Dua input, satu untuk `user_idx` dan satu untuk `movie_idx`.\n",
    "2.  **Embedding Layers**: Setiap input akan dipetakan ke sebuah vektor padat (embedding). Lapisan ini yang akan mempelajari representasi laten dari setiap user dan movie.\n",
    "3.  **Dot Product**: Vektor embedding user dan movie akan digabungkan menggunakan operasi *dot product* untuk menghasilkan prediksi rating."
   ]
  },
  {
   "cell_type": "code",
   "execution_count": null,
   "metadata": {},
   "outputs": [],
   "source": [
    "embedding_dim = 50 # Dimensi vektor embedding, bisa di-tune\n",
    "\n",
    "# Input untuk user\n",
    "user_input = keras.Input(shape=(1,), name='user_input')\n",
    "user_embedding = layers.Embedding(num_users, embedding_dim, name='user_embedding')(user_input)\n",
    "user_vec = layers.Flatten(name='flatten_user')(user_embedding)\n",
    "\n",
    "# Input untuk movie\n",
    "movie_input = keras.Input(shape=(1,), name='movie_input')\n",
    "movie_embedding = layers.Embedding(num_movies, embedding_dim, name='movie_embedding')(movie_input)\n",
    "movie_vec = layers.Flatten(name='flatten_movie')(movie_embedding)\n",
    "\n",
    "# Dot product dari kedua embedding vector\n",
    "dot_product = layers.Dot(axes=1, name='dot_product')([user_vec, movie_vec])\n",
    "\n",
    "# Membuat dan melihat ringkasan model\n",
    "model = keras.Model([user_input, movie_input], dot_product)\n",
    "model.summary()"
   ]
  },
  {
   "cell_type": "markdown",
   "metadata": {},
   "source": [
    "## 6. Kompilasi dan Training Model\n",
    "\n",
    "- **Optimizer**: `adam` adalah pilihan yang umum dan bagus.\n",
    "- **Loss Function**: `mean_squared_error` (MSE) cocok untuk masalah regresi seperti memprediksi rating.\n",
    "\n",
    "Hyperparameter seperti `epochs` dan `batch_size` dipilih agar proses training tidak terlalu lama dan efisien di GPU."
   ]
  },
  {
   "cell_type": "code",
   "execution_count": null,
   "metadata": {},
   "outputs": [],
   "source": [
    "model.compile(optimizer='adam', loss='mean_squared_error')\n",
    "\n",
    "# Memisahkan input untuk training\n",
    "X_train_user = X_train[:, 0]\n",
    "X_train_movie = X_train[:, 1]\n",
    "\n",
    "# Memisahkan input untuk testing\n",
    "X_test_user = X_test[:, 0]\n",
    "X_test_movie = X_test[:, 1]\n",
    "\n",
    "history = model.fit(\n",
    "    [X_train_user, X_train_movie],\n",
    "    y_train,\n",
    "    batch_size=64, # Ukuran batch yang cukup baik untuk GPU\n",
    "    epochs=5,      # Jumlah epoch yang tidak terlalu banyak untuk awal\n",
    "    validation_data=([X_test_user, X_test_movie], y_test)\n",
    ")"
   ]
  },
  {
   "cell_type": "markdown",
   "metadata": {},
   "source": [
    "## 7. Evaluasi Model\n",
    "\n",
    "Kita akan mengevaluasi model pada data test untuk melihat seberapa baik performanya. Metrik yang umum digunakan adalah Root Mean Squared Error (RMSE)."
   ]
  },
  {
   "cell_type": "code",
   "execution_count": null,
   "metadata": {},
   "outputs": [],
   "source": [
    "loss = model.evaluate([X_test_user, X_test_movie], y_test)\n",
    "rmse = np.sqrt(loss)\n",
    "print(f\"Test Loss (MSE): {loss:.4f}\")\n",
    "print(f\"Test RMSE: {rmse:.4f}\")"
   ]
  },
  {
   "cell_type": "markdown",
   "metadata": {},
   "source": [
    "## 8. Simpan Model\n",
    "\n",
    "Menyimpan model yang sudah dilatih agar bisa digunakan kembali tanpa perlu training ulang."
   ]
  },
  {
   "cell_type": "code",
   "execution_count": null,
   "metadata": {},
   "outputs": [],
   "source": [
    "os.makedirs(\"models\", exist_ok=True)\n",
    "model.save(\"models/tf_model.keras\")\n",
    "print(\"Model TensorFlow berhasil disimpan di models/tf_model.keras\")"
   ]
  },
  {
   "cell_type": "markdown",
   "metadata": {},
   "source": [
    "## 9. Membuat Fungsi Rekomendasi"
   ]
  },
  {
   "cell_type": "code",
   "execution_count": null,
   "metadata": {},
   "outputs": [],
   "source": [
    "def recommend_movies_for_user_tf(user_id, model, movies_df, ratings_df, user_encoder, movie_encoder, n=10):\n",
    "    # 1. Dapatkan semua movieId yang ada\n",
    "    all_movie_ids = movies_df['movieId'].unique()\n",
    "    \n",
    "    # 2. Dapatkan movieId yang sudah ditonton oleh user\n",
    "    watched_movie_ids = ratings_df[ratings_df['userId'] == user_id]['movieId'].unique()\n",
    "    \n",
    "    # 3. Dapatkan movieId yang belum ditonton\n",
    "    unseen_movie_ids = [m for m in all_movie_ids if m not in watched_movie_ids]\n",
    "    \n",
    "    # Filter film yang belum ditonton agar hanya berisi film yang dikenal oleh encoder\n",
    "    known_unseen_movie_ids = [m for m in unseen_movie_ids if m in movie_encoder.classes_]\n",
    "    \n",
    "    # 4. Siapkan data untuk prediksi\n",
    "    user_idx = user_encoder.transform([user_id])[0]\n",
    "    unseen_movie_idx = movie_encoder.transform(known_unseen_movie_ids)\n",
    "    \n",
    "    user_input_array = np.array([user_idx] * len(unseen_movie_idx))\n",
    "    movie_input_array = np.array(unseen_movie_idx)\n",
    "    \n",
    "    # 5. Lakukan prediksi\n",
    "    predictions = model.predict([user_input_array, movie_input_array]).flatten()\n",
    "    \n",
    "    # 6. Urutkan dan ambil top-N\n",
    "    results_df = pd.DataFrame({\n",
    "        'movieId': known_unseen_movie_ids,\n",
    "        'predicted_rating': predictions\n",
    "    })\n",
    "    top_n_results = results_df.sort_values(by='predicted_rating', ascending=False).head(n)\n",
    "    \n",
    "    # 7. Gabungkan dengan judul film untuk ditampilkan\n",
    "    recommendations = movies_df.merge(top_n_results, on='movieId')\n",
    "    \n",
    "    return recommendations[['movieId', 'title', 'predicted_rating']]"
   ]
  },
  {
   "cell_type": "markdown",
   "metadata": {},
   "source": [
    "## 10. Coba Rekomendasi"
   ]
  },
  {
   "cell_type": "code",
   "execution_count": null,
   "metadata": {},
   "outputs": [],
   "source": [
    "# Anda bisa memuat model lagi jika kernel di-restart\n",
    "# model = keras.models.load_model(\"models/tf_model.keras\")\n",
    "\n",
    "# Pilih user ID untuk mendapatkan rekomendasi\n",
    "test_user_id = 33 \n",
    "\n",
    "# Dapatkan rekomendasi\n",
    "recommendations = recommend_movies_for_user_tf(\n",
    "    test_user_id, model, movies_df, ratings_df, user_encoder, movie_encoder, n=10\n",
    ")\n",
    "\n",
    "print(f\"Rekomendasi film untuk User ID: {test_user_id}\")\n",
    "print(recommendations)"
   ]
  }
 ],
 "metadata": {
  "kernelspec": {
   "display_name": "recommender-env",
   "language": "python",
   "name": "python3"
  },
  "language_info": {
   "codemirror_mode": {
    "name": "ipython",
    "version": 3
   },
   "file_extension": ".py",
   "mimetype": "text/x-python",
   "name": "python",
   "nbconvert_exporter": "python",
   "pygments_lexer": "ipython3",
   "version": "3.10.18"
  }
 },
 "nbformat": 4,
 "nbformat_minor": 5
}