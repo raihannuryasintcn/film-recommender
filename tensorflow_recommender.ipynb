{
 "cells": [
  {
   "cell_type": "markdown",
   "metadata": {},
   "source": [
    "# Training Model Rekomendasi Film dengan TensorFlow\n",
    "\n",
    "Notebook ini bertujuan untuk membuat dan melatih model rekomendasi film menggunakan TensorFlow/Keras. Model ini akan belajar dari data rating yang diberikan oleh pengguna untuk memprediksi rating film yang belum mereka tonton."
   ]
  },
  {
   "cell_type": "markdown",
   "metadata": {},
   "source": [
    "## 1. Import Library"
   ]
  },
  {
   "cell_type": "code",
   "execution_count": 1,
   "metadata": {},
   "outputs": [],
   "source": [
    "import pandas as pd\n",
    "import numpy as np\n",
    "import tensorflow as tf\n",
    "from tensorflow import keras\n",
    "from tensorflow.keras import layers\n",
    "from sklearn.model_selection import train_test_split\n",
    "from sklearn.preprocessing import LabelEncoder\n",
    "import os"
   ]
  },
  {
   "cell_type": "markdown",
   "metadata": {},
   "source": [
    "## 2. Load Dataset"
   ]
  },
  {
   "cell_type": "code",
   "execution_count": 2,
   "metadata": {},
   "outputs": [
    {
     "name": "stdout",
     "output_type": "stream",
     "text": [
      "Contoh data ratings:\n",
      "   userId  movieId  rating   timestamp\n",
      "0       1      296     5.0  1147880044\n",
      "1       1      306     3.5  1147868817\n",
      "2       1      307     5.0  1147868828\n",
      "3       1      665     5.0  1147878820\n",
      "4       1      899     3.5  1147868510\n",
      "\n",
      "Jumlah data ratings: 25000095\n"
     ]
    }
   ],
   "source": [
    "ratings_df = pd.read_csv('data/ratings.csv')\n",
    "movies_df = pd.read_csv('data/movies.csv')\n",
    "\n",
    "print(\"Contoh data ratings:\")\n",
    "print(ratings_df.head())\n",
    "print(\"\\nJumlah data ratings:\", len(ratings_df))"
   ]
  },
  {
   "cell_type": "markdown",
   "metadata": {},
   "source": [
    "## 3. Pra-pemrosesan Data\n",
    "\n",
    "Model Jaringan Saraf Tiruan, khususnya Embedding Layer, memerlukan input berupa integer yang berurutan (misal: dari 0 hingga jumlah unik user/movie - 1). Oleh karena itu, kita perlu mengubah `userId` dan `movieId` yang asli menjadi indeks integer."
   ]
  },
  {
   "cell_type": "code",
   "execution_count": 3,
   "metadata": {},
   "outputs": [
    {
     "name": "stdout",
     "output_type": "stream",
     "text": [
      "Jumlah user unik: 162541\n",
      "Jumlah movie unik: 59047\n",
      "\n",
      "Data setelah di-encode:\n",
      "   userId  movieId  rating   timestamp  user_idx  movie_idx\n",
      "0       1      296     5.0  1147880044         0        292\n",
      "1       1      306     3.5  1147868817         0        302\n",
      "2       1      307     5.0  1147868828         0        303\n",
      "3       1      665     5.0  1147878820         0        654\n",
      "4       1      899     3.5  1147868510         0        878\n"
     ]
    }
   ],
   "source": [
    "# Menggunakan LabelEncoder untuk mengubah userId dan movieId menjadi indeks integer\n",
    "user_encoder = LabelEncoder()\n",
    "movie_encoder = LabelEncoder()\n",
    "\n",
    "ratings_df['user_idx'] = user_encoder.fit_transform(ratings_df['userId'])\n",
    "ratings_df['movie_idx'] = movie_encoder.fit_transform(ratings_df['movieId'])\n",
    "\n",
    "num_users = len(ratings_df['user_idx'].unique())\n",
    "num_movies = len(ratings_df['movie_idx'].unique())\n",
    "\n",
    "print(f\"Jumlah user unik: {num_users}\")\n",
    "print(f\"Jumlah movie unik: {num_movies}\")\n",
    "print(\"\\nData setelah di-encode:\")\n",
    "print(ratings_df.head())"
   ]
  },
  {
   "cell_type": "markdown",
   "metadata": {},
   "source": [
    "## 4. Split Data\n",
    "\n",
    "Kita akan membagi dataset menjadi data training (80%) dan data testing (20%)."
   ]
  },
  {
   "cell_type": "code",
   "execution_count": 4,
   "metadata": {},
   "outputs": [],
   "source": [
    "X = ratings_df[['user_idx', 'movie_idx']].values\n",
    "y = ratings_df['rating'].values\n",
    "\n",
    "X_train, X_test, y_train, y_test = train_test_split(X, y, test_size=0.2, random_state=42)"
   ]
  },
  {
   "cell_type": "markdown",
   "metadata": {},
   "source": [
    "## 5. Membangun Model Jaringan Saraf Tiruan (Neural Network)\n",
    "\n",
    "Arsitektur model ini meniru faktorisasi matriks:\n",
    "1.  **Input Layers**: Dua input, satu untuk `user_idx` dan satu untuk `movie_idx`.\n",
    "2.  **Embedding Layers**: Setiap input akan dipetakan ke sebuah vektor padat (embedding). Lapisan ini yang akan mempelajari representasi laten dari setiap user dan movie.\n",
    "3.  **Dot Product**: Vektor embedding user dan movie akan digabungkan menggunakan operasi *dot product* untuk menghasilkan prediksi rating."
   ]
  },
  {
   "cell_type": "code",
   "execution_count": 5,
   "metadata": {},
   "outputs": [
    {
     "data": {
      "text/html": [
       "<pre style=\"white-space:pre;overflow-x:auto;line-height:normal;font-family:Menlo,'DejaVu Sans Mono',consolas,'Courier New',monospace\"><span style=\"font-weight: bold\">Model: \"functional\"</span>\n",
       "</pre>\n"
      ],
      "text/plain": [
       "\u001b[1mModel: \"functional\"\u001b[0m\n"
      ]
     },
     "metadata": {},
     "output_type": "display_data"
    },
    {
     "data": {
      "text/html": [
       "<pre style=\"white-space:pre;overflow-x:auto;line-height:normal;font-family:Menlo,'DejaVu Sans Mono',consolas,'Courier New',monospace\">┏━━━━━━━━━━━━━━━━━━━━━┳━━━━━━━━━━━━━━━━━━━┳━━━━━━━━━━━━┳━━━━━━━━━━━━━━━━━━━┓\n",
       "┃<span style=\"font-weight: bold\"> Layer (type)        </span>┃<span style=\"font-weight: bold\"> Output Shape      </span>┃<span style=\"font-weight: bold\">    Param # </span>┃<span style=\"font-weight: bold\"> Connected to      </span>┃\n",
       "┡━━━━━━━━━━━━━━━━━━━━━╇━━━━━━━━━━━━━━━━━━━╇━━━━━━━━━━━━╇━━━━━━━━━━━━━━━━━━━┩\n",
       "│ user_input          │ (<span style=\"color: #00d7ff; text-decoration-color: #00d7ff\">None</span>, <span style=\"color: #00af00; text-decoration-color: #00af00\">1</span>)         │          <span style=\"color: #00af00; text-decoration-color: #00af00\">0</span> │ -                 │\n",
       "│ (<span style=\"color: #0087ff; text-decoration-color: #0087ff\">InputLayer</span>)        │                   │            │                   │\n",
       "├─────────────────────┼───────────────────┼────────────┼───────────────────┤\n",
       "│ movie_input         │ (<span style=\"color: #00d7ff; text-decoration-color: #00d7ff\">None</span>, <span style=\"color: #00af00; text-decoration-color: #00af00\">1</span>)         │          <span style=\"color: #00af00; text-decoration-color: #00af00\">0</span> │ -                 │\n",
       "│ (<span style=\"color: #0087ff; text-decoration-color: #0087ff\">InputLayer</span>)        │                   │            │                   │\n",
       "├─────────────────────┼───────────────────┼────────────┼───────────────────┤\n",
       "│ user_embedding      │ (<span style=\"color: #00d7ff; text-decoration-color: #00d7ff\">None</span>, <span style=\"color: #00af00; text-decoration-color: #00af00\">1</span>, <span style=\"color: #00af00; text-decoration-color: #00af00\">50</span>)     │  <span style=\"color: #00af00; text-decoration-color: #00af00\">8,127,050</span> │ user_input[<span style=\"color: #00af00; text-decoration-color: #00af00\">0</span>][<span style=\"color: #00af00; text-decoration-color: #00af00\">0</span>]  │\n",
       "│ (<span style=\"color: #0087ff; text-decoration-color: #0087ff\">Embedding</span>)         │                   │            │                   │\n",
       "├─────────────────────┼───────────────────┼────────────┼───────────────────┤\n",
       "│ movie_embedding     │ (<span style=\"color: #00d7ff; text-decoration-color: #00d7ff\">None</span>, <span style=\"color: #00af00; text-decoration-color: #00af00\">1</span>, <span style=\"color: #00af00; text-decoration-color: #00af00\">50</span>)     │  <span style=\"color: #00af00; text-decoration-color: #00af00\">2,952,350</span> │ movie_input[<span style=\"color: #00af00; text-decoration-color: #00af00\">0</span>][<span style=\"color: #00af00; text-decoration-color: #00af00\">0</span>] │\n",
       "│ (<span style=\"color: #0087ff; text-decoration-color: #0087ff\">Embedding</span>)         │                   │            │                   │\n",
       "├─────────────────────┼───────────────────┼────────────┼───────────────────┤\n",
       "│ flatten_user        │ (<span style=\"color: #00d7ff; text-decoration-color: #00d7ff\">None</span>, <span style=\"color: #00af00; text-decoration-color: #00af00\">50</span>)        │          <span style=\"color: #00af00; text-decoration-color: #00af00\">0</span> │ user_embedding[<span style=\"color: #00af00; text-decoration-color: #00af00\">0</span>… │\n",
       "│ (<span style=\"color: #0087ff; text-decoration-color: #0087ff\">Flatten</span>)           │                   │            │                   │\n",
       "├─────────────────────┼───────────────────┼────────────┼───────────────────┤\n",
       "│ flatten_movie       │ (<span style=\"color: #00d7ff; text-decoration-color: #00d7ff\">None</span>, <span style=\"color: #00af00; text-decoration-color: #00af00\">50</span>)        │          <span style=\"color: #00af00; text-decoration-color: #00af00\">0</span> │ movie_embedding[<span style=\"color: #00af00; text-decoration-color: #00af00\">…</span> │\n",
       "│ (<span style=\"color: #0087ff; text-decoration-color: #0087ff\">Flatten</span>)           │                   │            │                   │\n",
       "├─────────────────────┼───────────────────┼────────────┼───────────────────┤\n",
       "│ dot_product (<span style=\"color: #0087ff; text-decoration-color: #0087ff\">Dot</span>)   │ (<span style=\"color: #00d7ff; text-decoration-color: #00d7ff\">None</span>, <span style=\"color: #00af00; text-decoration-color: #00af00\">1</span>)         │          <span style=\"color: #00af00; text-decoration-color: #00af00\">0</span> │ flatten_user[<span style=\"color: #00af00; text-decoration-color: #00af00\">0</span>][<span style=\"color: #00af00; text-decoration-color: #00af00\">…</span> │\n",
       "│                     │                   │            │ flatten_movie[<span style=\"color: #00af00; text-decoration-color: #00af00\">0</span>]… │\n",
       "└─────────────────────┴───────────────────┴────────────┴───────────────────┘\n",
       "</pre>\n"
      ],
      "text/plain": [
       "┏━━━━━━━━━━━━━━━━━━━━━┳━━━━━━━━━━━━━━━━━━━┳━━━━━━━━━━━━┳━━━━━━━━━━━━━━━━━━━┓\n",
       "┃\u001b[1m \u001b[0m\u001b[1mLayer (type)       \u001b[0m\u001b[1m \u001b[0m┃\u001b[1m \u001b[0m\u001b[1mOutput Shape     \u001b[0m\u001b[1m \u001b[0m┃\u001b[1m \u001b[0m\u001b[1m   Param #\u001b[0m\u001b[1m \u001b[0m┃\u001b[1m \u001b[0m\u001b[1mConnected to     \u001b[0m\u001b[1m \u001b[0m┃\n",
       "┡━━━━━━━━━━━━━━━━━━━━━╇━━━━━━━━━━━━━━━━━━━╇━━━━━━━━━━━━╇━━━━━━━━━━━━━━━━━━━┩\n",
       "│ user_input          │ (\u001b[38;5;45mNone\u001b[0m, \u001b[38;5;34m1\u001b[0m)         │          \u001b[38;5;34m0\u001b[0m │ -                 │\n",
       "│ (\u001b[38;5;33mInputLayer\u001b[0m)        │                   │            │                   │\n",
       "├─────────────────────┼───────────────────┼────────────┼───────────────────┤\n",
       "│ movie_input         │ (\u001b[38;5;45mNone\u001b[0m, \u001b[38;5;34m1\u001b[0m)         │          \u001b[38;5;34m0\u001b[0m │ -                 │\n",
       "│ (\u001b[38;5;33mInputLayer\u001b[0m)        │                   │            │                   │\n",
       "├─────────────────────┼───────────────────┼────────────┼───────────────────┤\n",
       "│ user_embedding      │ (\u001b[38;5;45mNone\u001b[0m, \u001b[38;5;34m1\u001b[0m, \u001b[38;5;34m50\u001b[0m)     │  \u001b[38;5;34m8,127,050\u001b[0m │ user_input[\u001b[38;5;34m0\u001b[0m][\u001b[38;5;34m0\u001b[0m]  │\n",
       "│ (\u001b[38;5;33mEmbedding\u001b[0m)         │                   │            │                   │\n",
       "├─────────────────────┼───────────────────┼────────────┼───────────────────┤\n",
       "│ movie_embedding     │ (\u001b[38;5;45mNone\u001b[0m, \u001b[38;5;34m1\u001b[0m, \u001b[38;5;34m50\u001b[0m)     │  \u001b[38;5;34m2,952,350\u001b[0m │ movie_input[\u001b[38;5;34m0\u001b[0m][\u001b[38;5;34m0\u001b[0m] │\n",
       "│ (\u001b[38;5;33mEmbedding\u001b[0m)         │                   │            │                   │\n",
       "├─────────────────────┼───────────────────┼────────────┼───────────────────┤\n",
       "│ flatten_user        │ (\u001b[38;5;45mNone\u001b[0m, \u001b[38;5;34m50\u001b[0m)        │          \u001b[38;5;34m0\u001b[0m │ user_embedding[\u001b[38;5;34m0\u001b[0m… │\n",
       "│ (\u001b[38;5;33mFlatten\u001b[0m)           │                   │            │                   │\n",
       "├─────────────────────┼───────────────────┼────────────┼───────────────────┤\n",
       "│ flatten_movie       │ (\u001b[38;5;45mNone\u001b[0m, \u001b[38;5;34m50\u001b[0m)        │          \u001b[38;5;34m0\u001b[0m │ movie_embedding[\u001b[38;5;34m…\u001b[0m │\n",
       "│ (\u001b[38;5;33mFlatten\u001b[0m)           │                   │            │                   │\n",
       "├─────────────────────┼───────────────────┼────────────┼───────────────────┤\n",
       "│ dot_product (\u001b[38;5;33mDot\u001b[0m)   │ (\u001b[38;5;45mNone\u001b[0m, \u001b[38;5;34m1\u001b[0m)         │          \u001b[38;5;34m0\u001b[0m │ flatten_user[\u001b[38;5;34m0\u001b[0m][\u001b[38;5;34m…\u001b[0m │\n",
       "│                     │                   │            │ flatten_movie[\u001b[38;5;34m0\u001b[0m]… │\n",
       "└─────────────────────┴───────────────────┴────────────┴───────────────────┘\n"
      ]
     },
     "metadata": {},
     "output_type": "display_data"
    },
    {
     "data": {
      "text/html": [
       "<pre style=\"white-space:pre;overflow-x:auto;line-height:normal;font-family:Menlo,'DejaVu Sans Mono',consolas,'Courier New',monospace\"><span style=\"font-weight: bold\"> Total params: </span><span style=\"color: #00af00; text-decoration-color: #00af00\">11,079,400</span> (42.26 MB)\n",
       "</pre>\n"
      ],
      "text/plain": [
       "\u001b[1m Total params: \u001b[0m\u001b[38;5;34m11,079,400\u001b[0m (42.26 MB)\n"
      ]
     },
     "metadata": {},
     "output_type": "display_data"
    },
    {
     "data": {
      "text/html": [
       "<pre style=\"white-space:pre;overflow-x:auto;line-height:normal;font-family:Menlo,'DejaVu Sans Mono',consolas,'Courier New',monospace\"><span style=\"font-weight: bold\"> Trainable params: </span><span style=\"color: #00af00; text-decoration-color: #00af00\">11,079,400</span> (42.26 MB)\n",
       "</pre>\n"
      ],
      "text/plain": [
       "\u001b[1m Trainable params: \u001b[0m\u001b[38;5;34m11,079,400\u001b[0m (42.26 MB)\n"
      ]
     },
     "metadata": {},
     "output_type": "display_data"
    },
    {
     "data": {
      "text/html": [
       "<pre style=\"white-space:pre;overflow-x:auto;line-height:normal;font-family:Menlo,'DejaVu Sans Mono',consolas,'Courier New',monospace\"><span style=\"font-weight: bold\"> Non-trainable params: </span><span style=\"color: #00af00; text-decoration-color: #00af00\">0</span> (0.00 B)\n",
       "</pre>\n"
      ],
      "text/plain": [
       "\u001b[1m Non-trainable params: \u001b[0m\u001b[38;5;34m0\u001b[0m (0.00 B)\n"
      ]
     },
     "metadata": {},
     "output_type": "display_data"
    }
   ],
   "source": [
    "embedding_dim = 50 # Dimensi vektor embedding, bisa di-tune\n",
    "\n",
    "# Input untuk user\n",
    "user_input = keras.Input(shape=(1,), name='user_input')\n",
    "user_embedding = layers.Embedding(num_users, embedding_dim, name='user_embedding')(user_input)\n",
    "user_vec = layers.Flatten(name='flatten_user')(user_embedding)\n",
    "\n",
    "# Input untuk movie\n",
    "movie_input = keras.Input(shape=(1,), name='movie_input')\n",
    "movie_embedding = layers.Embedding(num_movies, embedding_dim, name='movie_embedding')(movie_input)\n",
    "movie_vec = layers.Flatten(name='flatten_movie')(movie_embedding)\n",
    "\n",
    "# Dot product dari kedua embedding vector\n",
    "dot_product = layers.Dot(axes=1, name='dot_product')([user_vec, movie_vec])\n",
    "\n",
    "# Membuat dan melihat ringkasan model\n",
    "model = keras.Model([user_input, movie_input], dot_product)\n",
    "model.summary()"
   ]
  },
  {
   "cell_type": "markdown",
   "metadata": {},
   "source": [
    "## 6. Kompilasi dan Training Model\n",
    "\n",
    "- **Optimizer**: `adam` adalah pilihan yang umum dan bagus.\n",
    "- **Loss Function**: `mean_squared_error` (MSE) cocok untuk masalah regresi seperti memprediksi rating.\n",
    "\n",
    "Hyperparameter seperti `epochs` dan `batch_size` dipilih agar proses training tidak terlalu lama dan efisien di GPU."
   ]
  },
  {
   "cell_type": "code",
   "execution_count": null,
   "metadata": {},
   "outputs": [],
   "source": [
    "model.compile(optimizer='adam', loss='mean_squared_error')\n",
    "\n",
    "# Memisahkan input untuk training\n",
    "X_train_user = X_train[:, 0]\n",
    "X_train_movie = X_train[:, 1]\n",
    "\n",
    "# Memisahkan input untuk testing\n",
    "X_test_user = X_test[:, 0]\n",
    "X_test_movie = X_test[:, 1]\n",
    "\n",
    "history = model.fit(\n",
    "    [X_train_user, X_train_movie],\n",
    "    y_train,\n",
    "    batch_size=64, # Ukuran batch yang cukup baik untuk GPU\n",
    "    epochs=5,      # Jumlah epoch yang tidak terlalu banyak untuk awal\n",
    "    validation_data=([X_test_user, X_test_movie], y_test)\n",
    ")"
   ]
  },
  {
   "cell_type": "markdown",
   "metadata": {},
   "source": [
    "## 7. Evaluasi Model\n",
    "\n",
    "Kita akan mengevaluasi model pada data test untuk melihat seberapa baik performanya. Metrik yang umum digunakan adalah Root Mean Squared Error (RMSE)."
   ]
  },
  {
   "cell_type": "code",
   "execution_count": null,
   "metadata": {},
   "outputs": [],
   "source": [
    "loss = model.evaluate([X_test_user, X_test_movie], y_test)\n",
    "rmse = np.sqrt(loss)\n",
    "print(f\"Test Loss (MSE): {loss:.4f}\")\n",
    "print(f\"Test RMSE: {rmse:.4f}\")"
   ]
  },
  {
   "cell_type": "markdown",
   "metadata": {},
   "source": [
    "## 8. Simpan Model\n",
    "\n",
    "Menyimpan model yang sudah dilatih agar bisa digunakan kembali tanpa perlu training ulang."
   ]
  },
  {
   "cell_type": "code",
   "execution_count": null,
   "metadata": {},
   "outputs": [],
   "source": [
    "os.makedirs(\"models\", exist_ok=True)\n",
    "model.save(\"models/tf_model.keras\")\n",
    "print(\"Model TensorFlow berhasil disimpan di models/tf_model.keras\")"
   ]
  },
  {
   "cell_type": "markdown",
   "id": "7b38e987",
   "metadata": {},
   "source": [
    "## 9. Load Model\n",
    "\n",
    "Load model yang sudah di latih tanpa perlu training (Mulai dari sini jika sudah mempunyai file .keras)"
   ]
  },
  {
   "cell_type": "code",
   "execution_count": 6,
   "id": "358b214b",
   "metadata": {},
   "outputs": [],
   "source": [
    "model = tf.keras.models.load_model(\"models/tf_model.keras\")"
   ]
  },
  {
   "cell_type": "markdown",
   "id": "23fc9e2d",
   "metadata": {},
   "source": [
    "## 10. Membuat Fungsi Rekomendasi"
   ]
  },
  {
   "cell_type": "code",
   "execution_count": 7,
   "id": "3a91f14d",
   "metadata": {},
   "outputs": [],
   "source": [
    "def recommend_movies_for_user_tf(user_id, model, movies_df, ratings_df, user_encoder, movie_encoder, n=10):\n",
    "    # 1. Dapatkan semua movieId yang ada\n",
    "    all_movie_ids = movies_df['movieId'].unique()\n",
    "    \n",
    "    # 2. Dapatkan movieId yang sudah ditonton oleh user\n",
    "    watched_movie_ids = ratings_df[ratings_df['userId'] == user_id]['movieId'].unique()\n",
    "    \n",
    "    # 3. Dapatkan movieId yang belum ditonton\n",
    "    unseen_movie_ids = [m for m in all_movie_ids if m not in watched_movie_ids]\n",
    "    \n",
    "    # Filter film yang belum ditonton agar hanya berisi film yang dikenal oleh encoder\n",
    "    known_unseen_movie_ids = [m for m in unseen_movie_ids if m in movie_encoder.classes_]\n",
    "    \n",
    "    # 4. Siapkan data untuk prediksi\n",
    "    user_idx = user_encoder.transform([user_id])[0]\n",
    "    unseen_movie_idx = movie_encoder.transform(known_unseen_movie_ids)\n",
    "    \n",
    "    user_input_array = np.array([user_idx] * len(unseen_movie_idx))\n",
    "    movie_input_array = np.array(unseen_movie_idx)\n",
    "    \n",
    "    # 5. Lakukan prediksi\n",
    "    predictions = model.predict([user_input_array, movie_input_array]).flatten()\n",
    "    \n",
    "    # 6. Urutkan dan ambil top-N\n",
    "    results_df = pd.DataFrame({\n",
    "        'movieId': known_unseen_movie_ids,\n",
    "        'predicted_rating': predictions\n",
    "    })\n",
    "    top_n_results = results_df.sort_values(by='predicted_rating', ascending=False).head(n)\n",
    "    \n",
    "    # 7. Gabungkan dengan judul film untuk ditampilkan\n",
    "    recommendations = movies_df.merge(top_n_results, on='movieId')\n",
    "    \n",
    "    return recommendations[['movieId', 'title', 'predicted_rating']]"
   ]
  },
  {
   "cell_type": "markdown",
   "id": "bac5dc66",
   "metadata": {},
   "source": [
    "## 11. Coba Rekomendasi"
   ]
  },
  {
   "cell_type": "code",
   "execution_count": 8,
   "id": "2e2d9f0b",
   "metadata": {},
   "outputs": [
    {
     "name": "stdout",
     "output_type": "stream",
     "text": [
      "\u001b[1m1845/1845\u001b[0m \u001b[32m━━━━━━━━━━━━━━━━━━━━\u001b[0m\u001b[37m\u001b[0m \u001b[1m3s\u001b[0m 1ms/step\n",
      "Rekomendasi film untuk User ID: 33\n",
      "   movieId                                              title  \\\n",
      "0     4778                        Children Underground (2001)   \n",
      "1    61013                           Absolute Giganten (1999)   \n",
      "2    73608                                        Heat (1972)   \n",
      "3    83279                                     Samoure (2005)   \n",
      "4   103057                                  Still Mine (2012)   \n",
      "5   116403                              The Third Half (2012)   \n",
      "6   127062           The Lumière Brothers' First Films (1996)   \n",
      "7   130347                        Bill Hicks: Sane Man (1989)   \n",
      "8   133203  Doug Stanhope: Oslo - Burning the Bridge to No...   \n",
      "9   169092                    The Story of the Voyages (1983)   \n",
      "\n",
      "   predicted_rating  \n",
      "0          4.828864  \n",
      "1          4.584217  \n",
      "2          4.648568  \n",
      "3          4.693457  \n",
      "4          4.715875  \n",
      "5          4.609181  \n",
      "6          4.593688  \n",
      "7          4.661789  \n",
      "8          4.616007  \n",
      "9          4.776704  \n"
     ]
    }
   ],
   "source": [
    "# Anda bisa memuat model lagi jika kernel di-restart\n",
    "# model = keras.models.load_model(\"models/tf_model.keras\")\n",
    "\n",
    "# Pilih user ID untuk mendapatkan rekomendasi\n",
    "test_user_id = 33 \n",
    "\n",
    "# Dapatkan rekomendasi\n",
    "recommendations = recommend_movies_for_user_tf(\n",
    "    test_user_id, model, movies_df, ratings_df, user_encoder, movie_encoder, n=10\n",
    ")\n",
    "\n",
    "print(f\"Rekomendasi film untuk User ID: {test_user_id}\")\n",
    "print(recommendations)"
   ]
  }
 ],
 "metadata": {
  "kernelspec": {
   "display_name": "recommender-env",
   "language": "python",
   "name": "python3"
  },
  "language_info": {
   "codemirror_mode": {
    "name": "ipython",
    "version": 3
   },
   "file_extension": ".py",
   "mimetype": "text/x-python",
   "name": "python",
   "nbconvert_exporter": "python",
   "pygments_lexer": "ipython3",
   "version": "3.10.18"
  }
 },
 "nbformat": 4,
 "nbformat_minor": 5
}
