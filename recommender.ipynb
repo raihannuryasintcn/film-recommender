{
 "cells": [
  {
   "cell_type": "markdown",
   "id": "858be774",
   "metadata": {},
   "source": [
    "# Import dan Load Dataset"
   ]
  },
  {
   "cell_type": "code",
   "execution_count": 1,
   "id": "b52b1d94",
   "metadata": {},
   "outputs": [],
   "source": [
    "import pandas as pd\n",
    "from surprise import SVD, Dataset, Reader\n",
    "from surprise.model_selection import train_test_split\n",
    "import joblib\n",
    "import os\n"
   ]
  },
  {
   "cell_type": "markdown",
   "id": "1ad8aab1",
   "metadata": {},
   "source": [
    "# Load CSV"
   ]
  },
  {
   "cell_type": "code",
   "execution_count": 2,
   "id": "8c24e128",
   "metadata": {},
   "outputs": [],
   "source": [
    "ratings_df = pd.read_csv(\"data/ratings.csv\")\n",
    "movies_df = pd.read_csv(\"data/movies.csv\")"
   ]
  },
  {
   "cell_type": "markdown",
   "id": "973a0c0c",
   "metadata": {},
   "source": [
    "# Siapkan Data untuk Training"
   ]
  },
  {
   "cell_type": "code",
   "execution_count": 3,
   "id": "09627136",
   "metadata": {},
   "outputs": [],
   "source": [
    "reader = Reader(rating_scale=(0.5, 5.0))\n",
    "data = Dataset.load_from_df(ratings_df[['userId', 'movieId', 'rating']], reader)\n",
    "trainset, testset = train_test_split(data, test_size=0.2, random_state=42)\n"
   ]
  },
  {
   "cell_type": "markdown",
   "id": "52238f12",
   "metadata": {},
   "source": [
    "# Latih Model & Simpan"
   ]
  },
  {
   "cell_type": "code",
   "execution_count": 7,
   "id": "8d4e2893",
   "metadata": {},
   "outputs": [],
   "source": [
    "model = SVD()\n",
    "model.fit(trainset)\n",
    "\n",
    "os.makedirs(\"models\", exist_ok=True)\n",
    "joblib.dump(model, \"models/svd_model.joblib\")\n"
   ]
  },
  {
   "cell_type": "markdown",
   "id": "9cd0d740",
   "metadata": {},
   "source": [
    "# Prediksi dan Akurasi Test"
   ]
  },
  {
   "cell_type": "code",
   "execution_count": 8,
   "id": "7e77c4d4",
   "metadata": {},
   "outputs": [
    {
     "name": "stdout",
     "output_type": "stream",
     "text": [
      "RMSE: 0.7776\n",
      "RMSE: 0.7775682060005937\n",
      "MAE:  0.5867\n",
      "MAE: 0.5867155281895922\n"
     ]
    }
   ],
   "source": [
    "from surprise import accuracy\n",
    " \n",
    "predictions = model.test(testset)\n",
    "print(\"RMSE:\", accuracy.rmse(predictions))\n",
    "print(\"MAE:\", accuracy.mae(predictions))"
   ]
  },
  {
   "cell_type": "markdown",
   "id": "408a6919-38ff-4fde-b738-79d2e0c226c2",
   "metadata": {},
   "source": [
    "# Import & Load Model (Jika sudah pernah train)"
   ]
  },
  {
   "cell_type": "code",
   "execution_count": null,
   "id": "e270a086-4767-49ea-a9f2-40c6041ff5ca",
   "metadata": {},
   "outputs": [],
   "source": [
    "import pandas as pd\n",
    "import joblib\n",
    "\n",
    "# Load model\n",
    "model = joblib.load(\"models/svd_model.joblib\")\n"
   ]
  },
  {
   "cell_type": "markdown",
   "id": "7cdb4e30",
   "metadata": {},
   "source": [
    "# Fungsi Rekomendasi"
   ]
  },
  {
   "cell_type": "code",
   "execution_count": null,
   "id": "55b7ecb8",
   "metadata": {},
   "outputs": [],
   "source": [
    "def recommend_movies_for_user(user_id, ratings_df, movies_df, model, n=10):\n",
    "    all_movie_ids = movies_df['movieId'].unique()\n",
    "    watched_movie_ids = ratings_df[ratings_df['userId'] == user_id]['movieId'].tolist()\n",
    "    unseen_movie_ids = [m for m in all_movie_ids if m not in watched_movie_ids]\n",
    "    \n",
    "    predictions = [model.predict(user_id, movie_id) for movie_id in unseen_movie_ids]\n",
    "    top_predictions = sorted(predictions, key=lambda x: x.est, reverse=True)[:n]\n",
    "    \n",
    "    top_movie_ids = [pred.iid for pred in top_predictions]\n",
    "    return movies_df[movies_df['movieId'].isin(top_movie_ids)][['movieId', 'title']]\n"
   ]
  },
  {
   "cell_type": "markdown",
   "id": "3854e552",
   "metadata": {},
   "source": [
    "# Coba Rekomendasi"
   ]
  },
  {
   "cell_type": "code",
   "execution_count": null,
   "id": "67a63152",
   "metadata": {},
   "outputs": [
    {
     "name": "stdout",
     "output_type": "stream",
     "text": [
      "       movieId                                              title\n",
      "12841    64241                Lonely Wife, The (Charulata) (1964)\n",
      "13028    66019  Great Ecstasy of Woodcarver Steiner, The (Groß...\n",
      "13562    70186  Heimat - A Chronicle of Germany (Heimat - Eine...\n",
      "17880    93404                    Queen: Days of Our Lives (2011)\n",
      "20609   106503                      Enemies of Reason, The (2007)\n",
      "26660   126927                      The Heart of the World (2000)\n",
      "26741   127098        Louis C.K.: Live at The Comedy Store (2015)\n",
      "45256   169954                                 Prohibition (2011)\n",
      "46097   171749                  Death Note: Desu nôto (2006–2007)\n",
      "49577   179173                           Rabbit of Seville (1950)\n"
     ]
    }
   ],
   "source": [
    "recommendations = recommend_movies_for_user(33, ratings_df, movies_df, model, n=10)\n",
    "print(recommendations)\n"
   ]
  },
  {
   "cell_type": "code",
   "execution_count": null,
   "id": "90903559-cfe4-4067-889c-4f69c3031f9f",
   "metadata": {},
   "outputs": [],
   "source": []
  }
 ],
 "metadata": {
  "kernelspec": {
   "display_name": "recommender-env",
   "language": "python",
   "name": "python3"
  },
  "language_info": {
   "codemirror_mode": {
    "name": "ipython",
    "version": 3
   },
   "file_extension": ".py",
   "mimetype": "text/x-python",
   "name": "python",
   "nbconvert_exporter": "python",
   "pygments_lexer": "ipython3",
   "version": "3.10.18"
  }
 },
 "nbformat": 4,
 "nbformat_minor": 5
}
